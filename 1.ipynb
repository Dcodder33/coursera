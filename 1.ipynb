{
 "cells": [
  {
   "cell_type": "markdown",
   "id": "47dfeb03",
   "metadata": {},
   "source": [
    "# Data Science Basics Notebook\n"
   ]
  },
  {
   "cell_type": "markdown",
   "id": "166f65e4",
   "metadata": {},
   "source": [
    "This notebook covers foundational concepts in data science, including languages, libraries, and basic arithmetic examples.\n"
   ]
  },
  {
   "cell_type": "markdown",
   "id": "bc96b6c6",
   "metadata": {},
   "source": [
    "## Data Science Languages  \n",
    "- Python  \n",
    "- R  \n",
    "- SQL  \n",
    "- Julia  \n"
   ]
  },
  {
   "cell_type": "markdown",
   "id": "fc593eac",
   "metadata": {},
   "source": [
    "## Data Science Libraries  \n",
    "- Pandas  \n",
    "- NumPy  \n",
    "- Matplotlib  \n",
    "- Scikit-learn  \n",
    "- TensorFlow  \n"
   ]
  },
  {
   "cell_type": "markdown",
   "id": "c49c7e3b",
   "metadata": {},
   "source": [
    "| Tool          | Purpose                  |  \n",
    "|---------------|--------------------------|  \n",
    "| JupyterLab    | Interactive notebooks    |  \n",
    "| GitHub        | Version control          |  \n",
    "| Apache Spark  | Big data processing      |  \n",
    "| Tableau       | Data visualization       |  \n"
   ]
  },
  {
   "cell_type": "markdown",
   "id": "fbc8f057",
   "metadata": {},
   "source": [
    "## Arithmetic Expression Examples  \n",
    "Below are some simple examples demonstrating arithmetic operations in Python.\n"
   ]
  },
  {
   "cell_type": "code",
   "execution_count": null,
   "id": "ad1da498",
   "metadata": {},
   "outputs": [],
   "source": [
    "result = (5 * 4) + 3\n",
    "print(result)\n"
   ]
  },
  {
   "cell_type": "code",
   "execution_count": null,
   "id": "c447d01d",
   "metadata": {},
   "outputs": [],
   "source": [
    "minutes = 120\n",
    "hours = minutes / 60\n",
    "print(hours)\n"
   ]
  },
  {
   "cell_type": "markdown",
   "id": "83c4865e",
   "metadata": {},
   "source": [
    "## Objectives  \n",
    "- Understand basic data science languages  \n",
    "- Learn about important data science libraries  \n",
    "- Practice simple arithmetic operations in Python  \n"
   ]
  },
  {
   "cell_type": "markdown",
   "id": "b0ac4012",
   "metadata": {},
   "source": [
    "**Author:** Dhruv Gorai\n"
   ]
  }
 ],
 "metadata": {
  "kernelspec": {
   "display_name": ".venv",
   "language": "python",
   "name": "python3"
  },
  "language_info": {
   "name": "python",
   "version": "3.12.1"
  }
 },
 "nbformat": 4,
 "nbformat_minor": 5
}
